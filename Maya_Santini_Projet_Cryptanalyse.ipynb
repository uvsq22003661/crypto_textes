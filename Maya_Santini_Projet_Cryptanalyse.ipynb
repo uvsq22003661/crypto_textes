{
 "cells": [
  {
   "cell_type": "markdown",
   "metadata": {},
   "source": [
    "# Cryptanalyse\n",
    "\n",
    "Votre mission, si vous l'acceptez, est de déchiffrer 4 textes de difficulté croissante en vous aidant d'un programme python que vous allez écrire.\n",
    "\n",
    "\n",
    "- Les fichiers ont été cryptés avec des méthodes données en cours.\n",
    "- Les fichiers chiffrés contiennent des textes en ASCII. Une fois déchiffrés ils vous donneront des informations.\n",
    "- Vous devez vous baser sur les fréquences d'apparition des lettres en français (et des paires de lettres) pour casser les codes. Faire une fonction de calcul pour vous aider.\n",
    "- Penser à réutliser le code du td de cryptographie comme base de travail.\n",
    "- Le code de votre programme doit être sur github et vous fournirez un lien vers votre projet github avec le code et le résultat du décodage\n",
    "en le déposant sur Moodle avant le mercredi 12 mai.\n",
    "- Une soutenance sera organisée le 17 mai.\n",
    "\n",
    "\n"
   ]
  },
  {
   "cell_type": "code",
   "execution_count": 4,
   "metadata": {},
   "outputs": [
    {
     "output_type": "execute_result",
     "data": {
      "text/plain": [
       "'le prochain fichier aura un code par substitution alphabetique:chaque lettre est remplacee par une autre. utiliser la frequence des lettres pour decoder le message.'"
      ]
     },
     "metadata": {},
     "execution_count": 4
    }
   ],
   "source": [
    "#texte 1\n",
    "def dechiffrer(texte, cle):\n",
    "    res = \"\"\n",
    "    for i in range(len(texte)):\n",
    "        rang = (ord(texte[i])-97)\n",
    "        if 0 <= rang < 26:\n",
    "            res += chr((rang+cle) % 26+97)\n",
    "        else:\n",
    "            res += texte[i]\n",
    "    return res\n",
    "\n",
    "\n",
    "texte = \"kd oqnbgzhm ehbghdq ztqz tm bncd ozq rtarshstshnm zkogzadshptd:bgzptd kdssqd drs qdlokzbdd ozq tmd ztsqd. tshkhrdq kz eqdptdmbd cdr kdssqdr ontq cdbncdq kd ldrrzfd.\"\n",
    "cle = 1\n",
    "dechiffrer(texte, cle)\n"
   ]
  },
  {
   "cell_type": "code",
   "execution_count": 5,
   "metadata": {},
   "outputs": [
    {
     "output_type": "execute_result",
     "data": {
      "text/plain": [
       "\"le prochain fichier est code par un mot de passe de taille inconnue et contient l'indice. les lettres du mot de passe permettent de decaler les lettres du message original modulo 26.seules les lettres de a a z sont chiffrees.\""
      ]
     },
     "metadata": {},
     "execution_count": 5
    }
   ],
   "source": [
    "#texte 2\n",
    "def frequence(texte):\n",
    "    for letter in range(ord('a'), ord('z') + 1):\n",
    "        print(chr(letter) + \":\", texte.count(chr(letter)))\n",
    "\n",
    "\n",
    "def dechiffrer(texte):\n",
    "    res = \"\"\n",
    "    alph1 = list(\"acdfgiklmnoqsuvwxy\")\n",
    "    alph2 = list(\"zdnmlsihgarpotcfeu\")\n",
    "    for i in range(len(texte)):\n",
    "        if texte[i] in alph1:\n",
    "            k = alph1.index(texte[i])\n",
    "            res += alph2[k]\n",
    "        else:\n",
    "            res += texte[i]\n",
    "    return res\n",
    "\n",
    "\n",
    "texte = \"gx qosvlnkd wkvlkxo xiu vscx qno yd fsu cx qniix cx unkggx kdvsddyx xu vsdukxdu g'kdckvx. gxi gxuuoxi cy fsu cx qniix qxofxuuxdu cx cxvngxo gxi gxuuoxi cy fxiinmx sokmkdng fscygs 26.ixygxi gxi gxuuoxi cx n n a isdu vlkwwoxxi.\"\n",
    "dechiffrer(texte)\n"
   ]
  },
  {
   "cell_type": "code",
   "execution_count": 6,
   "metadata": {},
   "outputs": [
    {
     "output_type": "execute_result",
     "data": {
      "text/plain": [
       "\"bravo a l'aide de l'indice vous avez reussi a casser ce code et a finir ce devoir. le dernier texte est pour les braves, regardez vous dans un miroir, en etes vous un ?\""
      ]
     },
     "metadata": {},
     "execution_count": 6
    }
   ],
   "source": [
    "#texte 3\n",
    "def decalage(texte, cle):\n",
    "    return chr(((ord(texte)-97) - (ord(cle)-97)) % 26+97)\n",
    "\n",
    "\n",
    "def dechiffrer(texte, cle):\n",
    "    res = \"\"\n",
    "    taille_cle = len(cle)\n",
    "    alph3 = list(\"abcdefghijklmnopqrstuvwxyz\")\n",
    "    for i in range(len(texte)):\n",
    "        if texte[i] in alph3:\n",
    "            res += decalage(texte[i], cle[i % taille_cle])\n",
    "        else:\n",
    "            res += texte[i]\n",
    "    return res\n",
    "\n",
    "\n",
    "texte = \"dceuq e n'ehfp cg p'kyhhep uqfw cgiy citudm c gzudiq ni ezhd px c jhptv ep cggsht. kg hdtymdt xdzei gdx rzyq wir mvzxpw, cifcchdb znwd ccyw wy lkcsht, dp isgd uqfw wy ?\"\n",
    "cle = \"clez\"\n",
    "dechiffrer(texte, cle)\n",
    "\n"
   ]
  },
  {
   "cell_type": "code",
   "execution_count": 7,
   "metadata": {
    "tags": []
   },
   "outputs": [
    {
     "output_type": "stream",
     "name": "stdout",
     "text": [
      "je voudrais pas crever \navant d'avoir connu \nles chiens noirs du Mexique \nqui dorment sans rever \nles singes à cul nu \ndevoreurs de tropiques \nles araignees d'argent \nau nid truffe de bulles \n \nje voudrais pas crever \nsans savoir si la lune \nsous son faux air de thune \na un cote pointu \nsi le soleil est froid \nsi les quatre saisons \nne sont vraiment que quatre \nsans avoir essaye \nde porter une robe \nsur les grands boulevards \n"
     ]
    },
    {
     "output_type": "execute_result",
     "data": {
      "text/plain": [
       "'sur les grands boulevards '"
      ]
     },
     "metadata": {},
     "execution_count": 7
    }
   ],
   "source": [
    "#texte 4\n",
    "def mirrored(texte):\n",
    "    miroir = texte.split(\"\\n\")\n",
    "    miroir.reverse()\n",
    "    for i in range(len(miroir)):\n",
    "        miroir[i] = miroir[i][::-1]\n",
    "    return miroir\n",
    "\n",
    "\n",
    "def decalage(texte, cle):\n",
    "    return chr(((ord(texte)-97) - (ord(cle)-97)) % 26+97)\n",
    "\n",
    "\n",
    "def dechiffrer(texte, cle):\n",
    "    taille_cle = len(cle)\n",
    "    alph3 = list(\"abcdefghijklmnopqrstuvwxyz\")\n",
    "    i = 0\n",
    "    for ligne in texte:\n",
    "        res = \"\"\n",
    "        ligne += \" \"\n",
    "        for j in range(len(ligne)):\n",
    "            if ligne[j] in alph3:\n",
    "                res += decalage(ligne[j], cle[i % taille_cle])\n",
    "            else:\n",
    "                res += ligne[j]\n",
    "            i += 1\n",
    "        print(res)\n",
    "    return res\n",
    "\n",
    "\n",
    "texte = \"\"\"jeqeqecvnf suozvb jfk muj\n",
    "dfjr fmy rvuqsk ve\n",
    "itajtd mifwz nnrt\n",
    "imtrvp zuh srzmzbqz tepr zn\n",
    "tmsnirt imtrvp nec hw\n",
    "dzpqj tjf pdecpr zl jr\n",
    "ptejnt ekpb iu b\n",
    "iiuyu iy ijz surg rjs ttsn\n",
    "votp ac hw rzpuen jozw\n",
    "rvwdvx jbo nirscyjv fi\n",
    "\n",
    "svmkyw ve iaflss yie te\n",
    "teffvv'u riznxjzvv jfk\n",
    "nelrhtjrk dh sivdvjvve\n",
    "yi cvb à jffrds tdp\n",
    "rvwdv sebr onvnqsy zvp\n",
    "zuhjwiM le wmifo wiezib nec\n",
    "triot qmjvr'c onrwz\n",
    "memfqg srq wdaietsq vk\"\"\"\n",
    "cle = \"bravez\"\n",
    "changer = mirrored(texte)\n",
    "dechiffrer(changer, cle)\n"
   ]
  },
  {
   "cell_type": "code",
   "execution_count": 81,
   "metadata": {},
   "outputs": [],
   "source": [
    "\n"
   ]
  },
  {
   "cell_type": "code",
   "execution_count": null,
   "metadata": {},
   "outputs": [],
   "source": []
  }
 ],
 "metadata": {
  "kernelspec": {
   "name": "python385jvsc74a57bd07bf46afc7bff33807c7b7ab14395aa06d34ceb0e4f54860d690bdfba402cb980",
   "display_name": "Python 3.8.5 64-bit ('l1-python': conda)"
  },
  "language_info": {
   "codemirror_mode": {
    "name": "ipython",
    "version": 3
   },
   "file_extension": ".py",
   "mimetype": "text/x-python",
   "name": "python",
   "nbconvert_exporter": "python",
   "pygments_lexer": "ipython3",
   "version": "3.8.5"
  }
 },
 "nbformat": 4,
 "nbformat_minor": 2
}